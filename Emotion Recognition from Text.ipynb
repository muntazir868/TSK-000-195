{
 "cells": [
  {
   "cell_type": "markdown",
   "metadata": {},
   "source": [
    "# Installation"
   ]
  },
  {
   "cell_type": "markdown",
   "metadata": {},
   "source": [
    "Go to terminal, type in \"pip install NRCLex\""
   ]
  },
  {
   "cell_type": "markdown",
   "metadata": {},
   "source": [
    "# Library"
   ]
  },
  {
   "cell_type": "code",
   "execution_count": 1,
   "metadata": {},
   "outputs": [
    {
     "name": "stdout",
     "output_type": "stream",
     "text": [
      "Collecting NRCLex\n",
      "  Downloading NRCLex-4.0-py3-none-any.whl (4.4 kB)\n",
      "Collecting textblob (from NRCLex)\n",
      "  Downloading textblob-0.17.1-py2.py3-none-any.whl (636 kB)\n",
      "     ---------------------------------------- 0.0/636.8 kB ? eta -:--:--\n",
      "     ---------------------------------------- 0.0/636.8 kB ? eta -:--:--\n",
      "     ---------------------------------------- 0.0/636.8 kB ? eta -:--:--\n",
      "      --------------------------------------- 10.2/636.8 kB ? eta -:--:--\n",
      "      --------------------------------------- 10.2/636.8 kB ? eta -:--:--\n",
      "      --------------------------------------- 10.2/636.8 kB ? eta -:--:--\n",
      "      --------------------------------------- 10.2/636.8 kB ? eta -:--:--\n",
      "      --------------------------------------- 10.2/636.8 kB ? eta -:--:--\n",
      "      --------------------------------------- 10.2/636.8 kB ? eta -:--:--\n",
      "     - ------------------------------------ 30.7/636.8 kB 69.0 kB/s eta 0:00:09\n",
      "     - ------------------------------------ 30.7/636.8 kB 69.0 kB/s eta 0:00:09\n",
      "     - ------------------------------------ 30.7/636.8 kB 69.0 kB/s eta 0:00:09\n",
      "     - ------------------------------------ 30.7/636.8 kB 69.0 kB/s eta 0:00:09\n",
      "     - ------------------------------------ 30.7/636.8 kB 69.0 kB/s eta 0:00:09\n",
      "     - ------------------------------------ 30.7/636.8 kB 69.0 kB/s eta 0:00:09\n",
      "     - ------------------------------------ 30.7/636.8 kB 69.0 kB/s eta 0:00:09\n",
      "     - ------------------------------------ 30.7/636.8 kB 69.0 kB/s eta 0:00:09\n",
      "     -- ----------------------------------- 41.0/636.8 kB 50.4 kB/s eta 0:00:12\n",
      "     -- ----------------------------------- 41.0/636.8 kB 50.4 kB/s eta 0:00:12\n",
      "     --- ---------------------------------- 61.4/636.8 kB 72.8 kB/s eta 0:00:08\n",
      "     --- ---------------------------------- 61.4/636.8 kB 72.8 kB/s eta 0:00:08\n",
      "     --- ---------------------------------- 61.4/636.8 kB 72.8 kB/s eta 0:00:08\n",
      "     ----- -------------------------------- 92.2/636.8 kB 98.9 kB/s eta 0:00:06\n",
      "     ------ ----------------------------- 112.6/636.8 kB 111.1 kB/s eta 0:00:05\n",
      "     ------ ----------------------------- 112.6/636.8 kB 111.1 kB/s eta 0:00:05\n",
      "     ------ ----------------------------- 112.6/636.8 kB 111.1 kB/s eta 0:00:05\n",
      "     ------ ----------------------------- 122.9/636.8 kB 111.0 kB/s eta 0:00:05\n",
      "     ------ ----------------------------- 122.9/636.8 kB 111.0 kB/s eta 0:00:05\n",
      "     -------- --------------------------- 143.4/636.8 kB 118.3 kB/s eta 0:00:05\n",
      "     -------- --------------------------- 143.4/636.8 kB 118.3 kB/s eta 0:00:05\n",
      "     -------- --------------------------- 153.6/636.8 kB 117.6 kB/s eta 0:00:05\n",
      "     --------- -------------------------- 174.1/636.8 kB 132.8 kB/s eta 0:00:04\n",
      "     --------- -------------------------- 174.1/636.8 kB 132.8 kB/s eta 0:00:04\n",
      "     ---------- ------------------------- 194.6/636.8 kB 138.8 kB/s eta 0:00:04\n",
      "     ---------- ------------------------- 194.6/636.8 kB 138.8 kB/s eta 0:00:04\n",
      "     ---------- ------------------------- 194.6/636.8 kB 138.8 kB/s eta 0:00:04\n",
      "     ---------- ------------------------- 194.6/636.8 kB 138.8 kB/s eta 0:00:04\n",
      "     ---------- ------------------------- 194.6/636.8 kB 138.8 kB/s eta 0:00:04\n",
      "     ------------- ---------------------- 235.5/636.8 kB 147.1 kB/s eta 0:00:03\n",
      "     ------------- ---------------------- 235.5/636.8 kB 147.1 kB/s eta 0:00:03\n",
      "     --------------- -------------------- 276.5/636.8 kB 162.3 kB/s eta 0:00:03\n",
      "     --------------- -------------------- 276.5/636.8 kB 162.3 kB/s eta 0:00:03\n",
      "     ----------------- ------------------ 307.2/636.8 kB 174.4 kB/s eta 0:00:02\n",
      "     ----------------- ------------------ 317.4/636.8 kB 177.2 kB/s eta 0:00:02\n",
      "     ----------------- ------------------ 317.4/636.8 kB 177.2 kB/s eta 0:00:02\n",
      "     ------------------- ---------------- 337.9/636.8 kB 179.3 kB/s eta 0:00:02\n",
      "     -------------------- --------------- 358.4/636.8 kB 185.7 kB/s eta 0:00:02\n",
      "     -------------------- --------------- 368.6/636.8 kB 186.5 kB/s eta 0:00:02\n",
      "     ---------------------- ------------- 399.4/636.8 kB 197.6 kB/s eta 0:00:02\n",
      "     ----------------------- ------------ 409.6/636.8 kB 199.7 kB/s eta 0:00:02\n",
      "     ------------------------ ----------- 430.1/636.8 kB 205.1 kB/s eta 0:00:02\n",
      "     -------------------------- --------- 460.8/636.8 kB 215.2 kB/s eta 0:00:01\n",
      "     ---------------------------- ------- 512.0/636.8 kB 232.7 kB/s eta 0:00:01\n",
      "     ------------------------------ ----- 532.5/636.8 kB 237.1 kB/s eta 0:00:01\n",
      "     ------------------------------ ----- 542.7/636.8 kB 238.4 kB/s eta 0:00:01\n",
      "     ------------------------------- ---- 563.2/636.8 kB 242.4 kB/s eta 0:00:01\n",
      "     ---------------------------------- - 614.4/636.8 kB 256.1 kB/s eta 0:00:01\n",
      "     ------------------------------------ 636.8/636.8 kB 260.4 kB/s eta 0:00:00\n",
      "INFO: pip is looking at multiple versions of nrclex to determine which version is compatible with other requirements. This could take a while.\n",
      "Collecting NRCLex\n",
      "  Downloading NRCLex-3.0.0.tar.gz (396 kB)\n",
      "     ---------------------------------------- 0.0/396.4 kB ? eta -:--:--\n",
      "     -- ---------------------------------- 30.7/396.4 kB 660.6 kB/s eta 0:00:01\n",
      "     --- --------------------------------- 41.0/396.4 kB 495.5 kB/s eta 0:00:01\n",
      "     ----- ------------------------------- 61.4/396.4 kB 544.7 kB/s eta 0:00:01\n",
      "     ------- ----------------------------- 81.9/396.4 kB 459.5 kB/s eta 0:00:01\n",
      "     -------- ---------------------------- 92.2/396.4 kB 403.5 kB/s eta 0:00:01\n",
      "     ---------- ------------------------- 112.6/396.4 kB 409.6 kB/s eta 0:00:01\n",
      "     ----------- ------------------------ 122.9/396.4 kB 400.9 kB/s eta 0:00:01\n",
      "     ----------- ------------------------ 122.9/396.4 kB 400.9 kB/s eta 0:00:01\n",
      "     ----------- ------------------------ 122.9/396.4 kB 400.9 kB/s eta 0:00:01\n",
      "     ----------- ------------------------ 122.9/396.4 kB 400.9 kB/s eta 0:00:01\n",
      "     ----------- ------------------------ 122.9/396.4 kB 400.9 kB/s eta 0:00:01\n",
      "     ----------- ------------------------ 122.9/396.4 kB 400.9 kB/s eta 0:00:01\n",
      "     ----------- ------------------------ 122.9/396.4 kB 400.9 kB/s eta 0:00:01\n",
      "     ------------- ---------------------- 143.4/396.4 kB 230.3 kB/s eta 0:00:02\n",
      "     -------------- --------------------- 163.8/396.4 kB 245.8 kB/s eta 0:00:01\n",
      "     --------------- -------------------- 174.1/396.4 kB 243.8 kB/s eta 0:00:01\n",
      "     --------------- -------------------- 174.1/396.4 kB 243.8 kB/s eta 0:00:01\n",
      "     ----------------- ------------------ 194.6/396.4 kB 251.1 kB/s eta 0:00:01\n",
      "     ------------------ ----------------- 204.8/396.4 kB 249.1 kB/s eta 0:00:01\n",
      "     -------------------- --------------- 225.3/396.4 kB 259.7 kB/s eta 0:00:01\n",
      "     -------------------- --------------- 225.3/396.4 kB 259.7 kB/s eta 0:00:01\n",
      "     ----------------------- ------------ 256.0/396.4 kB 257.9 kB/s eta 0:00:01\n",
      "     ----------------------- ------------ 256.0/396.4 kB 257.9 kB/s eta 0:00:01\n",
      "     ------------------------- ---------- 276.5/396.4 kB 262.0 kB/s eta 0:00:01\n",
      "     ------------------------- ---------- 276.5/396.4 kB 262.0 kB/s eta 0:00:01\n",
      "     ------------------------- ---------- 276.5/396.4 kB 262.0 kB/s eta 0:00:01\n",
      "     ------------------------- ---------- 276.5/396.4 kB 262.0 kB/s eta 0:00:01\n",
      "     ------------------------- ---------- 276.5/396.4 kB 262.0 kB/s eta 0:00:01\n",
      "     -------------------------- --------- 286.7/396.4 kB 221.2 kB/s eta 0:00:01\n",
      "     --------------------------- -------- 307.2/396.4 kB 229.0 kB/s eta 0:00:01\n",
      "     ----------------------------- ------ 327.7/396.4 kB 233.6 kB/s eta 0:00:01\n",
      "     ------------------------------ ----- 337.9/396.4 kB 233.1 kB/s eta 0:00:01\n",
      "     ------------------------------ ----- 337.9/396.4 kB 233.1 kB/s eta 0:00:01\n",
      "     --------------------------------- -- 368.6/396.4 kB 238.9 kB/s eta 0:00:01\n",
      "     ------------------------------------ 396.4/396.4 kB 249.6 kB/s eta 0:00:00\n",
      "  Preparing metadata (setup.py): started\n",
      "  Preparing metadata (setup.py): finished with status 'done'\n",
      "Requirement already satisfied: nltk>=3.1 in d:\\software\\installed\\annaconda\\lib\\site-packages (from textblob->NRCLex) (3.8.1)\n",
      "Requirement already satisfied: click in d:\\software\\installed\\annaconda\\lib\\site-packages (from nltk>=3.1->textblob->NRCLex) (8.0.4)\n",
      "Requirement already satisfied: joblib in d:\\software\\installed\\annaconda\\lib\\site-packages (from nltk>=3.1->textblob->NRCLex) (1.2.0)\n",
      "Requirement already satisfied: regex>=2021.8.3 in d:\\software\\installed\\annaconda\\lib\\site-packages (from nltk>=3.1->textblob->NRCLex) (2022.7.9)\n",
      "Requirement already satisfied: tqdm in d:\\software\\installed\\annaconda\\lib\\site-packages (from nltk>=3.1->textblob->NRCLex) (4.65.0)\n",
      "Requirement already satisfied: colorama in d:\\software\\installed\\annaconda\\lib\\site-packages (from click->nltk>=3.1->textblob->NRCLex) (0.4.6)\n",
      "Building wheels for collected packages: NRCLex\n",
      "  Building wheel for NRCLex (setup.py): started\n",
      "  Building wheel for NRCLex (setup.py): finished with status 'done'\n",
      "  Created wheel for NRCLex: filename=NRCLex-3.0.0-py3-none-any.whl size=43341 sha256=d8fe4617e3f911e97a0ac70f768e99ff4fe4521d1f663523add7b18a1518e6a5\n",
      "  Stored in directory: c:\\users\\lenovo\\appdata\\local\\pip\\cache\\wheels\\ed\\ac\\fa\\7afddefd14f51c4a963ed291b9052746ed3929473e5a33118d\n",
      "Successfully built NRCLex\n",
      "Installing collected packages: textblob, NRCLex\n",
      "Successfully installed NRCLex-3.0.0 textblob-0.17.1\n",
      "Note: you may need to restart the kernel to use updated packages.\n"
     ]
    }
   ],
   "source": [
    "pip install NRCLex"
   ]
  },
  {
   "cell_type": "code",
   "execution_count": 2,
   "metadata": {},
   "outputs": [],
   "source": [
    "from nrclex import NRCLex\n",
    "\n",
    "import numpy as np\n",
    "import pandas as pd"
   ]
  },
  {
   "cell_type": "markdown",
   "metadata": {},
   "source": [
    "# Detect emotions: sentence"
   ]
  },
  {
   "cell_type": "code",
   "execution_count": 5,
   "metadata": {},
   "outputs": [
    {
     "name": "stderr",
     "output_type": "stream",
     "text": [
      "[nltk_data] Downloading package punkt to\n",
      "[nltk_data]     C:\\Users\\LENOVO\\AppData\\Roaming\\nltk_data...\n",
      "[nltk_data]   Unzipping tokenizers\\punkt.zip.\n"
     ]
    },
    {
     "data": {
      "text/plain": [
       "True"
      ]
     },
     "execution_count": 5,
     "metadata": {},
     "output_type": "execute_result"
    }
   ],
   "source": [
    "import nltk\n",
    "nltk.download('punkt')\n"
   ]
  },
  {
   "cell_type": "code",
   "execution_count": 6,
   "metadata": {},
   "outputs": [
    {
     "name": "stdout",
     "output_type": "stream",
     "text": [
      "\n",
      " ['your', 'website', 'is', 'horrible']\n",
      "\n",
      " {'horrible': ['anger', 'disgust', 'fear', 'negative']}\n"
     ]
    }
   ],
   "source": [
    "# Assign emotion\n",
    "text = 'your website is horrible'\n",
    "  \n",
    "# Create object\n",
    "emotion = NRCLex(text)\n",
    "  \n",
    "# Using methods to classify emotion\n",
    "print('\\n', emotion.words)\n",
    "print('\\n', emotion.affect_dict)"
   ]
  },
  {
   "cell_type": "markdown",
   "metadata": {},
   "source": [
    "# Let's look at a longer example"
   ]
  },
  {
   "cell_type": "code",
   "execution_count": 7,
   "metadata": {},
   "outputs": [
    {
     "name": "stdout",
     "output_type": "stream",
     "text": [
      "\n",
      " {'humbled': ['positive', 'sadness'], 'challenge': ['anger', 'fear', 'negative'], 'encourage': ['joy', 'positive', 'trust'], 'growth': ['positive'], 'build': ['positive']}\n",
      "\n",
      " {'positive': 4, 'sadness': 1, 'anger': 1, 'fear': 1, 'negative': 1, 'joy': 1, 'trust': 1}\n"
     ]
    }
   ],
   "source": [
    "text = 'I am humbled and honored to be surrounded by colleagues who challenge,'\\\n",
    "        'support and encourage me at each stage.'\\\n",
    "        'Through them, I’ve learned work isn’t just'\\\n",
    "        'about the tasks we set out to do, but the experiences,'\\\n",
    "        'growth and friendships we build along the way.'\n",
    "\n",
    "emotion = NRCLex(text)\n",
    "print('\\n', emotion.affect_dict)\n",
    "print('\\n', emotion.raw_emotion_scores)"
   ]
  },
  {
   "cell_type": "markdown",
   "metadata": {},
   "source": [
    "# \"Top emotions\" returns the dominant emotion"
   ]
  },
  {
   "cell_type": "code",
   "execution_count": 8,
   "metadata": {},
   "outputs": [
    {
     "name": "stdout",
     "output_type": "stream",
     "text": [
      "\n",
      " [('positive', 0.4)]\n"
     ]
    }
   ],
   "source": [
    "print('\\n', emotion.top_emotions)"
   ]
  },
  {
   "cell_type": "markdown",
   "metadata": {},
   "source": [
    "# \"Affect frequencies\" standardizes \"Raw emotion scores\""
   ]
  },
  {
   "cell_type": "markdown",
   "metadata": {},
   "source": [
    "Assuming each sentence can only have a total score of 1, this is going to tell us which emotion weighs more and which emotions weigh less?\n"
   ]
  },
  {
   "cell_type": "code",
   "execution_count": 9,
   "metadata": {},
   "outputs": [
    {
     "name": "stdout",
     "output_type": "stream",
     "text": [
      "\n",
      " {'fear': 0.1, 'anger': 0.1, 'anticip': 0.0, 'trust': 0.1, 'surprise': 0.0, 'positive': 0.4, 'negative': 0.1, 'sadness': 0.1, 'disgust': 0.0, 'joy': 0.1}\n"
     ]
    }
   ],
   "source": [
    "print('\\n', emotion.affect_frequencies)"
   ]
  },
  {
   "cell_type": "markdown",
   "metadata": {},
   "source": [
    "# Detect emotions: dataframe"
   ]
  },
  {
   "cell_type": "code",
   "execution_count": 11,
   "metadata": {},
   "outputs": [
    {
     "data": {
      "text/html": [
       "<div>\n",
       "<style scoped>\n",
       "    .dataframe tbody tr th:only-of-type {\n",
       "        vertical-align: middle;\n",
       "    }\n",
       "\n",
       "    .dataframe tbody tr th {\n",
       "        vertical-align: top;\n",
       "    }\n",
       "\n",
       "    .dataframe thead th {\n",
       "        text-align: right;\n",
       "    }\n",
       "</style>\n",
       "<table border=\"1\" class=\"dataframe\">\n",
       "  <thead>\n",
       "    <tr style=\"text-align: right;\">\n",
       "      <th></th>\n",
       "      <th>tweet_id</th>\n",
       "      <th>sentiment</th>\n",
       "      <th>content</th>\n",
       "    </tr>\n",
       "  </thead>\n",
       "  <tbody>\n",
       "    <tr>\n",
       "      <th>0</th>\n",
       "      <td>1956967341</td>\n",
       "      <td>empty</td>\n",
       "      <td>@tiffanylue i know  i was listenin to bad habi...</td>\n",
       "    </tr>\n",
       "    <tr>\n",
       "      <th>1</th>\n",
       "      <td>1956967666</td>\n",
       "      <td>sadness</td>\n",
       "      <td>Layin n bed with a headache  ughhhh...waitin o...</td>\n",
       "    </tr>\n",
       "    <tr>\n",
       "      <th>2</th>\n",
       "      <td>1956967696</td>\n",
       "      <td>sadness</td>\n",
       "      <td>Funeral ceremony...gloomy friday...</td>\n",
       "    </tr>\n",
       "    <tr>\n",
       "      <th>3</th>\n",
       "      <td>1956967789</td>\n",
       "      <td>enthusiasm</td>\n",
       "      <td>wants to hang out with friends SOON!</td>\n",
       "    </tr>\n",
       "    <tr>\n",
       "      <th>4</th>\n",
       "      <td>1956968416</td>\n",
       "      <td>neutral</td>\n",
       "      <td>@dannycastillo We want to trade with someone w...</td>\n",
       "    </tr>\n",
       "  </tbody>\n",
       "</table>\n",
       "</div>"
      ],
      "text/plain": [
       "     tweet_id   sentiment                                            content\n",
       "0  1956967341       empty  @tiffanylue i know  i was listenin to bad habi...\n",
       "1  1956967666     sadness  Layin n bed with a headache  ughhhh...waitin o...\n",
       "2  1956967696     sadness                Funeral ceremony...gloomy friday...\n",
       "3  1956967789  enthusiasm               wants to hang out with friends SOON!\n",
       "4  1956968416     neutral  @dannycastillo We want to trade with someone w..."
      ]
     },
     "execution_count": 11,
     "metadata": {},
     "output_type": "execute_result"
    }
   ],
   "source": [
    "df = pd.read_csv('tweet_emotions.csv')\n",
    "df.head()"
   ]
  },
  {
   "cell_type": "code",
   "execution_count": null,
   "metadata": {},
   "outputs": [],
   "source": []
  },
  {
   "cell_type": "markdown",
   "metadata": {},
   "source": [
    "## Make sure you process the data: lemmatization etc (not shown here)"
   ]
  },
  {
   "cell_type": "code",
   "execution_count": 13,
   "metadata": {},
   "outputs": [
    {
     "data": {
      "text/html": [
       "<div>\n",
       "<style scoped>\n",
       "    .dataframe tbody tr th:only-of-type {\n",
       "        vertical-align: middle;\n",
       "    }\n",
       "\n",
       "    .dataframe tbody tr th {\n",
       "        vertical-align: top;\n",
       "    }\n",
       "\n",
       "    .dataframe thead th {\n",
       "        text-align: right;\n",
       "    }\n",
       "</style>\n",
       "<table border=\"1\" class=\"dataframe\">\n",
       "  <thead>\n",
       "    <tr style=\"text-align: right;\">\n",
       "      <th></th>\n",
       "      <th>tweet_id</th>\n",
       "      <th>sentiment</th>\n",
       "      <th>content</th>\n",
       "      <th>emotions</th>\n",
       "    </tr>\n",
       "  </thead>\n",
       "  <tbody>\n",
       "    <tr>\n",
       "      <th>0</th>\n",
       "      <td>1956967341</td>\n",
       "      <td>empty</td>\n",
       "      <td>@tiffanylue i know  i was listenin to bad habi...</td>\n",
       "      <td>{'fear': 0.2, 'anger': 0.2, 'anticip': 0.0, 't...</td>\n",
       "    </tr>\n",
       "    <tr>\n",
       "      <th>1</th>\n",
       "      <td>1956967666</td>\n",
       "      <td>sadness</td>\n",
       "      <td>Layin n bed with a headache  ughhhh...waitin o...</td>\n",
       "      <td>{'fear': 0.0, 'anger': 0.0, 'anticip': 0.0, 't...</td>\n",
       "    </tr>\n",
       "    <tr>\n",
       "      <th>2</th>\n",
       "      <td>1956967696</td>\n",
       "      <td>sadness</td>\n",
       "      <td>Funeral ceremony...gloomy friday...</td>\n",
       "      <td>{'fear': 0.0, 'anger': 0.0, 'anticip': 0.0, 't...</td>\n",
       "    </tr>\n",
       "    <tr>\n",
       "      <th>3</th>\n",
       "      <td>1956967789</td>\n",
       "      <td>enthusiasm</td>\n",
       "      <td>wants to hang out with friends SOON!</td>\n",
       "      <td>{'fear': 0.0, 'anger': 0.0, 'anticip': 0.0, 't...</td>\n",
       "    </tr>\n",
       "    <tr>\n",
       "      <th>4</th>\n",
       "      <td>1956968416</td>\n",
       "      <td>neutral</td>\n",
       "      <td>@dannycastillo We want to trade with someone w...</td>\n",
       "      <td>{'fear': 0.0, 'anger': 0.0, 'anticip': 0.0, 't...</td>\n",
       "    </tr>\n",
       "  </tbody>\n",
       "</table>\n",
       "</div>"
      ],
      "text/plain": [
       "     tweet_id   sentiment                                            content  \\\n",
       "0  1956967341       empty  @tiffanylue i know  i was listenin to bad habi...   \n",
       "1  1956967666     sadness  Layin n bed with a headache  ughhhh...waitin o...   \n",
       "2  1956967696     sadness                Funeral ceremony...gloomy friday...   \n",
       "3  1956967789  enthusiasm               wants to hang out with friends SOON!   \n",
       "4  1956968416     neutral  @dannycastillo We want to trade with someone w...   \n",
       "\n",
       "                                            emotions  \n",
       "0  {'fear': 0.2, 'anger': 0.2, 'anticip': 0.0, 't...  \n",
       "1  {'fear': 0.0, 'anger': 0.0, 'anticip': 0.0, 't...  \n",
       "2  {'fear': 0.0, 'anger': 0.0, 'anticip': 0.0, 't...  \n",
       "3  {'fear': 0.0, 'anger': 0.0, 'anticip': 0.0, 't...  \n",
       "4  {'fear': 0.0, 'anger': 0.0, 'anticip': 0.0, 't...  "
      ]
     },
     "execution_count": 13,
     "metadata": {},
     "output_type": "execute_result"
    }
   ],
   "source": [
    "df['emotions'] = df['content'].apply(lambda x: NRCLex(x).affect_frequencies)\n",
    "df.head()"
   ]
  },
  {
   "cell_type": "code",
   "execution_count": 14,
   "metadata": {},
   "outputs": [
    {
     "data": {
      "text/html": [
       "<div>\n",
       "<style scoped>\n",
       "    .dataframe tbody tr th:only-of-type {\n",
       "        vertical-align: middle;\n",
       "    }\n",
       "\n",
       "    .dataframe tbody tr th {\n",
       "        vertical-align: top;\n",
       "    }\n",
       "\n",
       "    .dataframe thead th {\n",
       "        text-align: right;\n",
       "    }\n",
       "</style>\n",
       "<table border=\"1\" class=\"dataframe\">\n",
       "  <thead>\n",
       "    <tr style=\"text-align: right;\">\n",
       "      <th></th>\n",
       "      <th>tweet_id</th>\n",
       "      <th>sentiment</th>\n",
       "      <th>content</th>\n",
       "      <th>fear</th>\n",
       "      <th>anger</th>\n",
       "      <th>anticip</th>\n",
       "      <th>trust</th>\n",
       "      <th>surprise</th>\n",
       "      <th>positive</th>\n",
       "      <th>negative</th>\n",
       "      <th>sadness</th>\n",
       "      <th>disgust</th>\n",
       "      <th>joy</th>\n",
       "      <th>anticipation</th>\n",
       "    </tr>\n",
       "  </thead>\n",
       "  <tbody>\n",
       "    <tr>\n",
       "      <th>0</th>\n",
       "      <td>1956967341</td>\n",
       "      <td>empty</td>\n",
       "      <td>@tiffanylue i know  i was listenin to bad habi...</td>\n",
       "      <td>0.2</td>\n",
       "      <td>0.2</td>\n",
       "      <td>0.0</td>\n",
       "      <td>0.0</td>\n",
       "      <td>0.0</td>\n",
       "      <td>0.0</td>\n",
       "      <td>0.2</td>\n",
       "      <td>0.2</td>\n",
       "      <td>0.2</td>\n",
       "      <td>0.0</td>\n",
       "      <td>NaN</td>\n",
       "    </tr>\n",
       "    <tr>\n",
       "      <th>1</th>\n",
       "      <td>1956967666</td>\n",
       "      <td>sadness</td>\n",
       "      <td>Layin n bed with a headache  ughhhh...waitin o...</td>\n",
       "      <td>0.0</td>\n",
       "      <td>0.0</td>\n",
       "      <td>0.0</td>\n",
       "      <td>0.0</td>\n",
       "      <td>0.0</td>\n",
       "      <td>0.0</td>\n",
       "      <td>1.0</td>\n",
       "      <td>0.0</td>\n",
       "      <td>0.0</td>\n",
       "      <td>0.0</td>\n",
       "      <td>NaN</td>\n",
       "    </tr>\n",
       "    <tr>\n",
       "      <th>2</th>\n",
       "      <td>1956967696</td>\n",
       "      <td>sadness</td>\n",
       "      <td>Funeral ceremony...gloomy friday...</td>\n",
       "      <td>0.0</td>\n",
       "      <td>0.0</td>\n",
       "      <td>0.0</td>\n",
       "      <td>0.0</td>\n",
       "      <td>0.2</td>\n",
       "      <td>0.2</td>\n",
       "      <td>0.2</td>\n",
       "      <td>0.2</td>\n",
       "      <td>0.0</td>\n",
       "      <td>0.2</td>\n",
       "      <td>NaN</td>\n",
       "    </tr>\n",
       "    <tr>\n",
       "      <th>3</th>\n",
       "      <td>1956967789</td>\n",
       "      <td>enthusiasm</td>\n",
       "      <td>wants to hang out with friends SOON!</td>\n",
       "      <td>0.0</td>\n",
       "      <td>0.0</td>\n",
       "      <td>0.0</td>\n",
       "      <td>0.0</td>\n",
       "      <td>0.0</td>\n",
       "      <td>0.0</td>\n",
       "      <td>0.0</td>\n",
       "      <td>0.0</td>\n",
       "      <td>0.0</td>\n",
       "      <td>0.0</td>\n",
       "      <td>NaN</td>\n",
       "    </tr>\n",
       "    <tr>\n",
       "      <th>4</th>\n",
       "      <td>1956968416</td>\n",
       "      <td>neutral</td>\n",
       "      <td>@dannycastillo We want to trade with someone w...</td>\n",
       "      <td>0.0</td>\n",
       "      <td>0.0</td>\n",
       "      <td>0.0</td>\n",
       "      <td>1.0</td>\n",
       "      <td>0.0</td>\n",
       "      <td>0.0</td>\n",
       "      <td>0.0</td>\n",
       "      <td>0.0</td>\n",
       "      <td>0.0</td>\n",
       "      <td>0.0</td>\n",
       "      <td>NaN</td>\n",
       "    </tr>\n",
       "  </tbody>\n",
       "</table>\n",
       "</div>"
      ],
      "text/plain": [
       "     tweet_id   sentiment                                            content  \\\n",
       "0  1956967341       empty  @tiffanylue i know  i was listenin to bad habi...   \n",
       "1  1956967666     sadness  Layin n bed with a headache  ughhhh...waitin o...   \n",
       "2  1956967696     sadness                Funeral ceremony...gloomy friday...   \n",
       "3  1956967789  enthusiasm               wants to hang out with friends SOON!   \n",
       "4  1956968416     neutral  @dannycastillo We want to trade with someone w...   \n",
       "\n",
       "   fear  anger  anticip  trust  surprise  positive  negative  sadness  \\\n",
       "0   0.2    0.2      0.0    0.0       0.0       0.0       0.2      0.2   \n",
       "1   0.0    0.0      0.0    0.0       0.0       0.0       1.0      0.0   \n",
       "2   0.0    0.0      0.0    0.0       0.2       0.2       0.2      0.2   \n",
       "3   0.0    0.0      0.0    0.0       0.0       0.0       0.0      0.0   \n",
       "4   0.0    0.0      0.0    1.0       0.0       0.0       0.0      0.0   \n",
       "\n",
       "   disgust  joy  anticipation  \n",
       "0      0.2  0.0           NaN  \n",
       "1      0.0  0.0           NaN  \n",
       "2      0.0  0.2           NaN  \n",
       "3      0.0  0.0           NaN  \n",
       "4      0.0  0.0           NaN  "
      ]
     },
     "execution_count": 14,
     "metadata": {},
     "output_type": "execute_result"
    }
   ],
   "source": [
    "df = pd.concat([df.drop(['emotions'], axis = 1), df['emotions'].apply(pd.Series)], axis = 1)\n",
    "df.head()"
   ]
  },
  {
   "cell_type": "markdown",
   "metadata": {},
   "source": [
    "# Limitation: NRCLex can't handle negations"
   ]
  },
  {
   "cell_type": "markdown",
   "metadata": {},
   "source": [
    "# Limitation: NRCLex can't recognize words it doesn't know"
   ]
  },
  {
   "cell_type": "code",
   "execution_count": 15,
   "metadata": {},
   "outputs": [
    {
     "name": "stdout",
     "output_type": "stream",
     "text": [
      "Last modified: 230903\n"
     ]
    }
   ],
   "source": [
    "from datetime import datetime\n",
    "date = datetime.today().strftime('%y%m%d')\n",
    "print ('Last modified: ' + date)"
   ]
  },
  {
   "cell_type": "code",
   "execution_count": null,
   "metadata": {},
   "outputs": [],
   "source": []
  }
 ],
 "metadata": {
  "kernelspec": {
   "display_name": "Python 3 (ipykernel)",
   "language": "python",
   "name": "python3"
  },
  "language_info": {
   "codemirror_mode": {
    "name": "ipython",
    "version": 3
   },
   "file_extension": ".py",
   "mimetype": "text/x-python",
   "name": "python",
   "nbconvert_exporter": "python",
   "pygments_lexer": "ipython3",
   "version": "3.11.4"
  }
 },
 "nbformat": 4,
 "nbformat_minor": 2
}
